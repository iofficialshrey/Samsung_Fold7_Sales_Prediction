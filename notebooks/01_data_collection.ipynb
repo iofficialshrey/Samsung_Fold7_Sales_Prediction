{
 "cells": [
  {
   "cell_type": "markdown",
   "id": "da8ded3e-7ae8-4ced-b04a-908b77cbd483",
   "metadata": {},
   "source": [
    "# 01_data_collection.ipynb\n",
    "\n",
    "**Goal:** Scrape Reddit posts for Galaxy Fold models (Fold 4–7) and save raw CSVs for downstream processing.\n",
    "\n",
    "We’ll use PRAW (Python Reddit API Wrapper) to collect:\n",
    "- Post title & body\n",
    "- Engagement metrics (score, comments)\n",
    "- Metadata (timestamp, URL)\n",
    "- A “Version” tag so we know which Fold each post refers to"
   ]
  },
  {
   "cell_type": "code",
   "execution_count": 3,
   "id": "180a6a01-f138-4338-8d2a-de4398f268c3",
   "metadata": {},
   "outputs": [],
   "source": [
    "# Install dependencies (run once)\n",
    "!pip install praw pandas --quiet"
   ]
  },
  {
   "cell_type": "code",
   "execution_count": 5,
   "id": "7fb46900-c1c3-4011-9567-736ccdcfac3e",
   "metadata": {},
   "outputs": [
    {
     "name": "stdout",
     "output_type": "stream",
     "text": [
      "Read-only mode: True\n"
     ]
    }
   ],
   "source": [
    "import praw\n",
    "import pandas as pd\n",
    "\n",
    "# Reddit API credentials \n",
    "client_id     = \"OYT3vAuAzCMNp_5JSgaBBw\"\n",
    "client_secret = \"PntVTcvv9pfKr1RpTlABKnj_flBCFw\"\n",
    "user_agent    = \"FoldSalesPredictor by /u/iofficialshrey\"\n",
    "\n",
    "# Authentication\n",
    "reddit = praw.Reddit(\n",
    "    client_id=client_id,\n",
    "    client_secret=client_secret,\n",
    "    user_agent=user_agent\n",
    ")\n",
    "\n",
    "print(\"Read-only mode:\", reddit.read_only)  # For credential Verfication\n"
   ]
  },
  {
   "cell_type": "code",
   "execution_count": 7,
   "id": "c09379bd-4611-420c-987e-c2856ed7ad9a",
   "metadata": {},
   "outputs": [],
   "source": [
    "# 1. Subreddits to search\n",
    "subreddits = [\"samsung\", \"galaxyfold\", \"Android\"]\n",
    "\n",
    "# 2. Reusable scraper function\n",
    "def scrape_reddit(version_query, version_label, subreddits, limit=200):\n",
    "    \"\"\"\n",
    "    Scrape up to `limit` posts per subreddit matching `version_query`.\n",
    "    Returns a DataFrame with columns:\n",
    "      Version, Subreddit, Title, Body, Score, Comments, Timestamp, URL\n",
    "    \"\"\"\n",
    "    records = []\n",
    "    for sub in subreddits:\n",
    "        for post in reddit.subreddit(sub).search(version_query, sort=\"new\", limit=limit):\n",
    "            records.append({\n",
    "                \"Version\": version_label,\n",
    "                \"Subreddit\": sub,\n",
    "                \"Title\": post.title,\n",
    "                \"Body\": post.selftext,\n",
    "                \"Score\": post.score,\n",
    "                \"Comments\": post.num_comments,\n",
    "                \"Timestamp\": post.created_utc,\n",
    "                \"URL\": post.url,\n",
    "            })\n",
    "    return pd.DataFrame(records)"
   ]
  },
  {
   "cell_type": "code",
   "execution_count": 13,
   "id": "58aaf57a-5972-47bd-8906-a315e74ebe80",
   "metadata": {},
   "outputs": [
    {
     "name": "stdout",
     "output_type": "stream",
     "text": [
      "✅ Fold 4 data saved: (519, 8)\n"
     ]
    }
   ],
   "source": [
    "# Scrape Fold 4\n",
    "df_fold4 = scrape_reddit(\"Fold 4 OR Galaxy Fold 4\", \"Fold 4\", subreddits, limit=200)\n",
    "df_fold4.to_csv(\"/Users/shreychaudhary/Documents/Samsung_Fold7_Sales_Prediction/data/raw/fold4_reddit.csv\", index=False)\n",
    "print(\"✅ Fold 4 data saved:\", df_fold4.shape)"
   ]
  },
  {
   "cell_type": "code",
   "execution_count": 15,
   "id": "a39aa063-24c7-48c2-9c95-31b99c2d1565",
   "metadata": {},
   "outputs": [
    {
     "name": "stdout",
     "output_type": "stream",
     "text": [
      "✅ Fold 5 data saved: (493, 8)\n"
     ]
    }
   ],
   "source": [
    "# Scrape Fold 5\n",
    "df_fold5 = scrape_reddit(\"Fold 5 OR Galaxy Fold 5\", \"Fold 5\", subreddits, limit=200)\n",
    "df_fold5.to_csv(\"/Users/shreychaudhary/Documents/Samsung_Fold7_Sales_Prediction/data/raw/fold5_reddit.csv\", index=False)\n",
    "print(\"✅ Fold 5 data saved:\", df_fold5.shape)\n"
   ]
  },
  {
   "cell_type": "code",
   "execution_count": 17,
   "id": "5710d1f3-3461-47b9-a6ae-e9436a2be950",
   "metadata": {},
   "outputs": [
    {
     "name": "stdout",
     "output_type": "stream",
     "text": [
      "✅ Fold 6 data saved: (485, 8)\n"
     ]
    }
   ],
   "source": [
    "# Scrape Fold 6\n",
    "df_fold6 = scrape_reddit(\"Fold 6 OR Galaxy Fold 6\", \"Fold 6\", subreddits, limit=200)\n",
    "df_fold6.to_csv(\"/Users/shreychaudhary/Documents/Samsung_Fold7_Sales_Prediction/data/raw/fold6_reddit.csv\", index=False)\n",
    "print(\"✅ Fold 6 data saved:\", df_fold6.shape)\n"
   ]
  },
  {
   "cell_type": "code",
   "execution_count": 19,
   "id": "a37beb0c-8a41-4fa5-9ec8-b1e27c03af76",
   "metadata": {},
   "outputs": [
    {
     "name": "stdout",
     "output_type": "stream",
     "text": [
      "✅ Fold 7 data saved: (387, 8)\n"
     ]
    }
   ],
   "source": [
    "# Scrape Fold 7\n",
    "df_fold7 = scrape_reddit(\"Fold 7 OR Galaxy Fold 7\", \"Fold 7\", subreddits, limit=200)\n",
    "df_fold7.to_csv(\"/Users/shreychaudhary/Documents/Samsung_Fold7_Sales_Prediction/data/raw/fold7_reddit.csv\", index=False)\n",
    "print(\"✅ Fold 7 data saved:\", df_fold7.shape)\n"
   ]
  },
  {
   "cell_type": "code",
   "execution_count": 21,
   "id": "0d85af7f-33c1-4002-9a0e-ce7fb1b1a199",
   "metadata": {},
   "outputs": [
    {
     "name": "stdout",
     "output_type": "stream",
     "text": [
      "Version\n",
      "Fold 4    519\n",
      "Fold 5    493\n",
      "Fold 6    485\n",
      "Fold 7    387\n",
      "Name: count, dtype: int64\n"
     ]
    },
    {
     "data": {
      "text/html": [
       "<div>\n",
       "<style scoped>\n",
       "    .dataframe tbody tr th:only-of-type {\n",
       "        vertical-align: middle;\n",
       "    }\n",
       "\n",
       "    .dataframe tbody tr th {\n",
       "        vertical-align: top;\n",
       "    }\n",
       "\n",
       "    .dataframe thead th {\n",
       "        text-align: right;\n",
       "    }\n",
       "</style>\n",
       "<table border=\"1\" class=\"dataframe\">\n",
       "  <thead>\n",
       "    <tr style=\"text-align: right;\">\n",
       "      <th></th>\n",
       "      <th>Version</th>\n",
       "      <th>Subreddit</th>\n",
       "      <th>Title</th>\n",
       "      <th>Body</th>\n",
       "      <th>Score</th>\n",
       "      <th>Comments</th>\n",
       "      <th>Timestamp</th>\n",
       "      <th>URL</th>\n",
       "    </tr>\n",
       "  </thead>\n",
       "  <tbody>\n",
       "    <tr>\n",
       "      <th>0</th>\n",
       "      <td>Fold 4</td>\n",
       "      <td>samsung</td>\n",
       "      <td>How much battery have you lost over the year(s)?</td>\n",
       "      <td>My Galaxy Note 9 has 50% degradation haha. (It...</td>\n",
       "      <td>17</td>\n",
       "      <td>31</td>\n",
       "      <td>1.753390e+09</td>\n",
       "      <td>https://www.reddit.com/r/samsung/comments/1m8f...</td>\n",
       "    </tr>\n",
       "    <tr>\n",
       "      <th>1</th>\n",
       "      <td>Fold 4</td>\n",
       "      <td>samsung</td>\n",
       "      <td>I really wanna get samsung Z flip 7</td>\n",
       "      <td>Okay so Ive been an Iphone user for more than ...</td>\n",
       "      <td>74</td>\n",
       "      <td>66</td>\n",
       "      <td>1.752759e+09</td>\n",
       "      <td>https://www.reddit.com/r/samsung/comments/1m27...</td>\n",
       "    </tr>\n",
       "    <tr>\n",
       "      <th>2</th>\n",
       "      <td>Fold 4</td>\n",
       "      <td>samsung</td>\n",
       "      <td>Samsung could dominate foldables today — they’...</td>\n",
       "      <td>Samsung has the best displays, multitasking UI...</td>\n",
       "      <td>18</td>\n",
       "      <td>23</td>\n",
       "      <td>1.752579e+09</td>\n",
       "      <td>https://www.reddit.com/r/samsung/comments/1m0f...</td>\n",
       "    </tr>\n",
       "    <tr>\n",
       "      <th>3</th>\n",
       "      <td>Fold 4</td>\n",
       "      <td>samsung</td>\n",
       "      <td>Improvements for the S26 Series and onward</td>\n",
       "      <td>As many people have noted, Samsung has been st...</td>\n",
       "      <td>28</td>\n",
       "      <td>40</td>\n",
       "      <td>1.749941e+09</td>\n",
       "      <td>https://www.reddit.com/r/samsung/comments/1lbl...</td>\n",
       "    </tr>\n",
       "    <tr>\n",
       "      <th>4</th>\n",
       "      <td>Fold 4</td>\n",
       "      <td>samsung</td>\n",
       "      <td>Switching phones</td>\n",
       "      <td>Hey folks! I’m currently using an iPhone 14 Pr...</td>\n",
       "      <td>3</td>\n",
       "      <td>2</td>\n",
       "      <td>1.747724e+09</td>\n",
       "      <td>https://www.reddit.com/r/samsung/comments/1kqy...</td>\n",
       "    </tr>\n",
       "  </tbody>\n",
       "</table>\n",
       "</div>"
      ],
      "text/plain": [
       "  Version Subreddit                                              Title  \\\n",
       "0  Fold 4   samsung   How much battery have you lost over the year(s)?   \n",
       "1  Fold 4   samsung                I really wanna get samsung Z flip 7   \n",
       "2  Fold 4   samsung  Samsung could dominate foldables today — they’...   \n",
       "3  Fold 4   samsung         Improvements for the S26 Series and onward   \n",
       "4  Fold 4   samsung                                   Switching phones   \n",
       "\n",
       "                                                Body  Score  Comments  \\\n",
       "0  My Galaxy Note 9 has 50% degradation haha. (It...     17        31   \n",
       "1  Okay so Ive been an Iphone user for more than ...     74        66   \n",
       "2  Samsung has the best displays, multitasking UI...     18        23   \n",
       "3  As many people have noted, Samsung has been st...     28        40   \n",
       "4  Hey folks! I’m currently using an iPhone 14 Pr...      3         2   \n",
       "\n",
       "      Timestamp                                                URL  \n",
       "0  1.753390e+09  https://www.reddit.com/r/samsung/comments/1m8f...  \n",
       "1  1.752759e+09  https://www.reddit.com/r/samsung/comments/1m27...  \n",
       "2  1.752579e+09  https://www.reddit.com/r/samsung/comments/1m0f...  \n",
       "3  1.749941e+09  https://www.reddit.com/r/samsung/comments/1lbl...  \n",
       "4  1.747724e+09  https://www.reddit.com/r/samsung/comments/1kqy...  "
      ]
     },
     "execution_count": 21,
     "metadata": {},
     "output_type": "execute_result"
    }
   ],
   "source": [
    "# Combine into a single DataFrame\n",
    "df_all = pd.concat([df_fold4, df_fold5, df_fold6, df_fold7], ignore_index=True)\n",
    "print(df_all.Version.value_counts())\n",
    "df_all.head()"
   ]
  },
  {
   "cell_type": "code",
   "execution_count": null,
   "id": "38b5de01-011a-487f-a0f0-a24655025715",
   "metadata": {},
   "outputs": [],
   "source": []
  }
 ],
 "metadata": {
  "kernelspec": {
   "display_name": "Python 3.10 (Twitter)",
   "language": "python",
   "name": "twitter310"
  },
  "language_info": {
   "codemirror_mode": {
    "name": "ipython",
    "version": 3
   },
   "file_extension": ".py",
   "mimetype": "text/x-python",
   "name": "python",
   "nbconvert_exporter": "python",
   "pygments_lexer": "ipython3",
   "version": "3.10.18"
  }
 },
 "nbformat": 4,
 "nbformat_minor": 5
}
