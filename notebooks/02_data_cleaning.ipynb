{
 "cells": [
  {
   "cell_type": "markdown",
   "id": "5b119f87-716f-4c1e-a9eb-e9c7d07ac85c",
   "metadata": {},
   "source": [
    "# 02_data_cleaning.ipynb\n",
    "\n",
    "**Goals:**  \n",
    "1. Load raw CSVs for Fold 4–7  \n",
    "2. Combine into one DataFrame  \n",
    "3. Clean text (remove URLs, punctuation; lowercase)  \n",
    "4. Parse timestamps into datetime  \n",
    "5. Save processed CSV for feature engineering"
   ]
  },
  {
   "cell_type": "code",
   "execution_count": 3,
   "id": "fd74858a-293a-407b-aae7-585a989cfc9a",
   "metadata": {},
   "outputs": [],
   "source": [
    "import os\n",
    "import pandas as pd\n",
    "import re\n",
    "\n",
    "# Ensure output directory exists\n",
    "os.makedirs(\"data/processed\", exist_ok=True)"
   ]
  },
  {
   "cell_type": "code",
   "execution_count": 7,
   "id": "496cb697-6bb3-4444-86c1-0aa3fcf99817",
   "metadata": {},
   "outputs": [
    {
     "name": "stdout",
     "output_type": "stream",
     "text": [
      "Combined shape: (1884, 8)\n"
     ]
    },
    {
     "data": {
      "text/html": [
       "<div>\n",
       "<style scoped>\n",
       "    .dataframe tbody tr th:only-of-type {\n",
       "        vertical-align: middle;\n",
       "    }\n",
       "\n",
       "    .dataframe tbody tr th {\n",
       "        vertical-align: top;\n",
       "    }\n",
       "\n",
       "    .dataframe thead th {\n",
       "        text-align: right;\n",
       "    }\n",
       "</style>\n",
       "<table border=\"1\" class=\"dataframe\">\n",
       "  <thead>\n",
       "    <tr style=\"text-align: right;\">\n",
       "      <th></th>\n",
       "      <th>Version</th>\n",
       "      <th>Subreddit</th>\n",
       "      <th>Title</th>\n",
       "      <th>Body</th>\n",
       "      <th>Score</th>\n",
       "      <th>Comments</th>\n",
       "      <th>Timestamp</th>\n",
       "      <th>URL</th>\n",
       "    </tr>\n",
       "  </thead>\n",
       "  <tbody>\n",
       "    <tr>\n",
       "      <th>0</th>\n",
       "      <td>Fold 4</td>\n",
       "      <td>samsung</td>\n",
       "      <td>How much battery have you lost over the year(s)?</td>\n",
       "      <td>My Galaxy Note 9 has 50% degradation haha. (It...</td>\n",
       "      <td>17</td>\n",
       "      <td>31</td>\n",
       "      <td>1.753390e+09</td>\n",
       "      <td>https://www.reddit.com/r/samsung/comments/1m8f...</td>\n",
       "    </tr>\n",
       "    <tr>\n",
       "      <th>1</th>\n",
       "      <td>Fold 4</td>\n",
       "      <td>samsung</td>\n",
       "      <td>I really wanna get samsung Z flip 7</td>\n",
       "      <td>Okay so Ive been an Iphone user for more than ...</td>\n",
       "      <td>74</td>\n",
       "      <td>66</td>\n",
       "      <td>1.752759e+09</td>\n",
       "      <td>https://www.reddit.com/r/samsung/comments/1m27...</td>\n",
       "    </tr>\n",
       "  </tbody>\n",
       "</table>\n",
       "</div>"
      ],
      "text/plain": [
       "  Version Subreddit                                             Title  \\\n",
       "0  Fold 4   samsung  How much battery have you lost over the year(s)?   \n",
       "1  Fold 4   samsung               I really wanna get samsung Z flip 7   \n",
       "\n",
       "                                                Body  Score  Comments  \\\n",
       "0  My Galaxy Note 9 has 50% degradation haha. (It...     17        31   \n",
       "1  Okay so Ive been an Iphone user for more than ...     74        66   \n",
       "\n",
       "      Timestamp                                                URL  \n",
       "0  1.753390e+09  https://www.reddit.com/r/samsung/comments/1m8f...  \n",
       "1  1.752759e+09  https://www.reddit.com/r/samsung/comments/1m27...  "
      ]
     },
     "execution_count": 7,
     "metadata": {},
     "output_type": "execute_result"
    }
   ],
   "source": [
    "# Paths to raw files\n",
    "files = [\n",
    "    \"/Users/shreychaudhary/Documents/Samsung_Fold7_Sales_Prediction/data/raw/fold4_reddit.csv\",\n",
    "    \"/Users/shreychaudhary/Documents/Samsung_Fold7_Sales_Prediction/data/raw/fold5_reddit.csv\",\n",
    "    \"/Users/shreychaudhary/Documents/Samsung_Fold7_Sales_Prediction/data/raw/fold6_reddit.csv\",\n",
    "    \"/Users/shreychaudhary/Documents/Samsung_Fold7_Sales_Prediction/data/raw/fold7_reddit.csv\",\n",
    "]\n",
    "\n",
    "# Load each into a DataFrame and concatenate\n",
    "dfs = [pd.read_csv(path) for path in files]\n",
    "df = pd.concat(dfs, ignore_index=True)\n",
    "print(\"Combined shape:\", df.shape)\n",
    "df.head(2)"
   ]
  },
  {
   "cell_type": "code",
   "execution_count": 10,
   "id": "f8928b30-bf85-48c0-a8a2-b2bf7076f163",
   "metadata": {},
   "outputs": [],
   "source": [
    "# Some posts may have empty body\n",
    "df[\"Title\"] = df[\"Title\"].fillna(\"\")\n",
    "df[\"Body\"]  = df[\"Body\"].fillna(\"\")\n",
    "\n",
    "# Create unified Text column\n",
    "df[\"Text\"] = df[\"Title\"] + \" \" + df[\"Body\"]\n"
   ]
  },
  {
   "cell_type": "code",
   "execution_count": 12,
   "id": "75630634-94b1-4623-aa84-fc5c30d0df3e",
   "metadata": {},
   "outputs": [
    {
     "data": {
      "text/html": [
       "<div>\n",
       "<style scoped>\n",
       "    .dataframe tbody tr th:only-of-type {\n",
       "        vertical-align: middle;\n",
       "    }\n",
       "\n",
       "    .dataframe tbody tr th {\n",
       "        vertical-align: top;\n",
       "    }\n",
       "\n",
       "    .dataframe thead th {\n",
       "        text-align: right;\n",
       "    }\n",
       "</style>\n",
       "<table border=\"1\" class=\"dataframe\">\n",
       "  <thead>\n",
       "    <tr style=\"text-align: right;\">\n",
       "      <th></th>\n",
       "      <th>Text</th>\n",
       "      <th>Clean_Text</th>\n",
       "    </tr>\n",
       "  </thead>\n",
       "  <tbody>\n",
       "    <tr>\n",
       "      <th>0</th>\n",
       "      <td>How much battery have you lost over the year(s...</td>\n",
       "      <td>how much battery have you lost over the years ...</td>\n",
       "    </tr>\n",
       "    <tr>\n",
       "      <th>1</th>\n",
       "      <td>I really wanna get samsung Z flip 7 Okay so Iv...</td>\n",
       "      <td>i really wanna get samsung z flip okay so ive ...</td>\n",
       "    </tr>\n",
       "  </tbody>\n",
       "</table>\n",
       "</div>"
      ],
      "text/plain": [
       "                                                Text  \\\n",
       "0  How much battery have you lost over the year(s...   \n",
       "1  I really wanna get samsung Z flip 7 Okay so Iv...   \n",
       "\n",
       "                                          Clean_Text  \n",
       "0  how much battery have you lost over the years ...  \n",
       "1  i really wanna get samsung z flip okay so ive ...  "
      ]
     },
     "execution_count": 12,
     "metadata": {},
     "output_type": "execute_result"
    }
   ],
   "source": [
    "def clean_text(s):\n",
    "    s = s.lower()                           # lowercase\n",
    "    s = re.sub(r\"http\\S+\", \"\", s)           # remove URLs\n",
    "    s = re.sub(r\"[^a-z\\s]\", \"\", s)          # keep letters & spaces\n",
    "    s = re.sub(r\"\\s+\", \" \", s).strip()      # collapse whitespace\n",
    "    return s\n",
    "\n",
    "df[\"Clean_Text\"] = df[\"Text\"].apply(clean_text)\n",
    "df[[\"Text\", \"Clean_Text\"]].head(2)"
   ]
  },
  {
   "cell_type": "code",
   "execution_count": 14,
   "id": "99f5cafb-64f6-49de-bb24-e3e2daa39377",
   "metadata": {},
   "outputs": [
    {
     "data": {
      "text/html": [
       "<div>\n",
       "<style scoped>\n",
       "    .dataframe tbody tr th:only-of-type {\n",
       "        vertical-align: middle;\n",
       "    }\n",
       "\n",
       "    .dataframe tbody tr th {\n",
       "        vertical-align: top;\n",
       "    }\n",
       "\n",
       "    .dataframe thead th {\n",
       "        text-align: right;\n",
       "    }\n",
       "</style>\n",
       "<table border=\"1\" class=\"dataframe\">\n",
       "  <thead>\n",
       "    <tr style=\"text-align: right;\">\n",
       "      <th></th>\n",
       "      <th>Version</th>\n",
       "      <th>Subreddit</th>\n",
       "      <th>Score</th>\n",
       "      <th>Comments</th>\n",
       "      <th>URL</th>\n",
       "      <th>Text</th>\n",
       "      <th>Clean_Text</th>\n",
       "      <th>Date</th>\n",
       "      <th>DateOnly</th>\n",
       "    </tr>\n",
       "  </thead>\n",
       "  <tbody>\n",
       "    <tr>\n",
       "      <th>0</th>\n",
       "      <td>Fold 4</td>\n",
       "      <td>samsung</td>\n",
       "      <td>17</td>\n",
       "      <td>31</td>\n",
       "      <td>https://www.reddit.com/r/samsung/comments/1m8f...</td>\n",
       "      <td>How much battery have you lost over the year(s...</td>\n",
       "      <td>how much battery have you lost over the years ...</td>\n",
       "      <td>2025-07-24 20:43:52</td>\n",
       "      <td>2025-07-24</td>\n",
       "    </tr>\n",
       "    <tr>\n",
       "      <th>1</th>\n",
       "      <td>Fold 4</td>\n",
       "      <td>samsung</td>\n",
       "      <td>74</td>\n",
       "      <td>66</td>\n",
       "      <td>https://www.reddit.com/r/samsung/comments/1m27...</td>\n",
       "      <td>I really wanna get samsung Z flip 7 Okay so Iv...</td>\n",
       "      <td>i really wanna get samsung z flip okay so ive ...</td>\n",
       "      <td>2025-07-17 13:30:00</td>\n",
       "      <td>2025-07-17</td>\n",
       "    </tr>\n",
       "  </tbody>\n",
       "</table>\n",
       "</div>"
      ],
      "text/plain": [
       "  Version Subreddit  Score  Comments  \\\n",
       "0  Fold 4   samsung     17        31   \n",
       "1  Fold 4   samsung     74        66   \n",
       "\n",
       "                                                 URL  \\\n",
       "0  https://www.reddit.com/r/samsung/comments/1m8f...   \n",
       "1  https://www.reddit.com/r/samsung/comments/1m27...   \n",
       "\n",
       "                                                Text  \\\n",
       "0  How much battery have you lost over the year(s...   \n",
       "1  I really wanna get samsung Z flip 7 Okay so Iv...   \n",
       "\n",
       "                                          Clean_Text                Date  \\\n",
       "0  how much battery have you lost over the years ... 2025-07-24 20:43:52   \n",
       "1  i really wanna get samsung z flip okay so ive ... 2025-07-17 13:30:00   \n",
       "\n",
       "     DateOnly  \n",
       "0  2025-07-24  \n",
       "1  2025-07-17  "
      ]
     },
     "execution_count": 14,
     "metadata": {},
     "output_type": "execute_result"
    }
   ],
   "source": [
    "# Convert Unix timestamp to datetime\n",
    "df[\"Date\"] = pd.to_datetime(df[\"Timestamp\"], unit=\"s\")\n",
    "# Optional: extract just date\n",
    "df[\"DateOnly\"] = df[\"Date\"].dt.date\n",
    "\n",
    "# Drop unused columns\n",
    "df = df.drop(columns=[\"Title\", \"Body\", \"Timestamp\"])\n",
    "df.head(2)"
   ]
  },
  {
   "cell_type": "code",
   "execution_count": 20,
   "id": "25420817-d1c8-4ac3-b867-c5708f937a4e",
   "metadata": {},
   "outputs": [
    {
     "name": "stdout",
     "output_type": "stream",
     "text": [
      "Saved cleaned data: (1884, 9)\n"
     ]
    }
   ],
   "source": [
    "# Save to processed folder\n",
    "df.to_csv(\"/Users/shreychaudhary/Documents/Samsung_Fold7_Sales_Prediction/data/processed/reddit_clean.csv\", index=False)\n",
    "print(\"Saved cleaned data:\", df.shape)"
   ]
  },
  {
   "cell_type": "code",
   "execution_count": null,
   "id": "f96adc1a-3c5a-4aa0-b980-49a647c9c844",
   "metadata": {},
   "outputs": [],
   "source": []
  }
 ],
 "metadata": {
  "kernelspec": {
   "display_name": "Python [conda env:base] *",
   "language": "python",
   "name": "conda-base-py"
  },
  "language_info": {
   "codemirror_mode": {
    "name": "ipython",
    "version": 3
   },
   "file_extension": ".py",
   "mimetype": "text/x-python",
   "name": "python",
   "nbconvert_exporter": "python",
   "pygments_lexer": "ipython3",
   "version": "3.12.7"
  }
 },
 "nbformat": 4,
 "nbformat_minor": 5
}
